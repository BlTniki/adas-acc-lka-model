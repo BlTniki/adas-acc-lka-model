{
 "cells": [
  {
   "cell_type": "code",
   "execution_count": 1,
   "id": "54e18119",
   "metadata": {},
   "outputs": [],
   "source": [
    "import carla\n",
    "import random"
   ]
  },
  {
   "cell_type": "code",
   "execution_count": null,
   "id": "13edb07e",
   "metadata": {},
   "outputs": [],
   "source": [
    "# Подключение к симулятору python клиентом\n",
    "client = carla.Client('localhost', 2000)\n",
    "client.set_timeout(2.0)"
   ]
  },
  {
   "cell_type": "code",
   "execution_count": 3,
   "id": "df703e76",
   "metadata": {},
   "outputs": [
    {
     "data": {
      "text/plain": [
       "<carla.libcarla.World at 0x1d4b296dea0>"
      ]
     },
     "execution_count": 3,
     "metadata": {},
     "output_type": "execute_result"
    }
   ],
   "source": [
    "client.load_world('Town03')"
   ]
  },
  {
   "cell_type": "code",
   "execution_count": 3,
   "id": "c6622da7",
   "metadata": {},
   "outputs": [],
   "source": [
    "# Once we have a client we can retrieve the world that is currently\n",
    "# running.\n",
    "world = client.get_world()\n",
    "\n",
    "# The world contains the list blueprints that we can use for adding new\n",
    "# actors into the simulation.\n",
    "blueprint_library = world.get_blueprint_library()\n",
    "\n",
    "# Get the blueprint library and filter for the vehicle blueprints\n",
    "vehicle_blueprints = world.get_blueprint_library().filter('*vehicle*')\n",
    "# Get the map's spawn points\n",
    "spawn_points = world.get_map().get_spawn_points()"
   ]
  },
  {
   "cell_type": "markdown",
   "id": "9a98afa0",
   "metadata": {},
   "source": [
    "# Basic tutorial"
   ]
  },
  {
   "cell_type": "code",
   "execution_count": 7,
   "id": "3248b717",
   "metadata": {},
   "outputs": [],
   "source": [
    "actor_list = []"
   ]
  },
  {
   "cell_type": "code",
   "execution_count": null,
   "id": "0bc64638",
   "metadata": {},
   "outputs": [],
   "source": [
    "# Now let's filter all the blueprints of type 'vehicle' and choose one\n",
    "# at random.\n",
    "bp = random.choice(blueprint_library.filter('vehicle'))\n",
    "\n",
    "# A blueprint contains the list of attributes that define a vehicle's\n",
    "# instance, we can read them and modify some of them. For instance,\n",
    "# let's randomize its color.\n",
    "if bp.has_attribute('color'):\n",
    "    color = random.choice(bp.get_attribute('color').recommended_values)\n",
    "    bp.set_attribute('color', color)"
   ]
  },
  {
   "cell_type": "code",
   "execution_count": 5,
   "id": "6561788f",
   "metadata": {},
   "outputs": [],
   "source": [
    "# Now we need to give an initial transform to the vehicle. We choose a\n",
    "# random transform from the list of recommended spawn points of the map.\n",
    "transform = random.choice(world.get_map().get_spawn_points())"
   ]
  },
  {
   "cell_type": "code",
   "execution_count": 6,
   "id": "192456a4",
   "metadata": {},
   "outputs": [],
   "source": [
    "# So let's tell the world to spawn the vehicle.\n",
    "vehicle = world.spawn_actor(bp, transform)"
   ]
  },
  {
   "cell_type": "code",
   "execution_count": 8,
   "id": "d4378daf",
   "metadata": {},
   "outputs": [
    {
     "name": "stdout",
     "output_type": "stream",
     "text": [
      "created vehicle.diamondback.century\n"
     ]
    }
   ],
   "source": [
    "# It is important to note that the actors we create won't be destroyed\n",
    "# unless we call their \"destroy\" function. If we fail to call \"destroy\"\n",
    "# they will stay in the simulation even after we quit the Python script.\n",
    "# For that reason, we are storing all the actors we create so we can\n",
    "# destroy them afterwards.\n",
    "actor_list.append(vehicle)\n",
    "print('created %s' % vehicle.type_id)"
   ]
  },
  {
   "cell_type": "code",
   "execution_count": 9,
   "id": "b47e4ca3",
   "metadata": {},
   "outputs": [],
   "source": [
    "# Let's put the vehicle to drive around.\n",
    "vehicle.set_autopilot(True)"
   ]
  },
  {
   "cell_type": "code",
   "execution_count": 10,
   "id": "41289733",
   "metadata": {},
   "outputs": [
    {
     "name": "stdout",
     "output_type": "stream",
     "text": [
      "created sensor.camera.depth\n"
     ]
    }
   ],
   "source": [
    "# Let's add now a \"depth\" camera attached to the vehicle. Note that the\n",
    "# transform we give here is now relative to the vehicle.\n",
    "camera_bp = blueprint_library.find('sensor.camera.depth')\n",
    "camera_transform = carla.Transform(carla.Location(x=1.5, z=2.4))\n",
    "camera = world.spawn_actor(camera_bp, camera_transform, attach_to=vehicle)\n",
    "actor_list.append(camera)\n",
    "print('created %s' % camera.type_id)"
   ]
  },
  {
   "cell_type": "code",
   "execution_count": 18,
   "id": "b89b1c07",
   "metadata": {},
   "outputs": [
    {
     "name": "stdout",
     "output_type": "stream",
     "text": [
      "moved vehicle to Location(x=-116.591125, y=39.366714, z=-2.067356)\n"
     ]
    }
   ],
   "source": [
    "# Oh wait, I don't like the location we gave to the vehicle, I'm going\n",
    "# to move it a bit forward.\n",
    "location = vehicle.get_location()\n",
    "location.x += 40\n",
    "vehicle.set_location(location)\n",
    "print('moved vehicle to %s' % location)"
   ]
  },
  {
   "cell_type": "code",
   "execution_count": 17,
   "id": "ab795863",
   "metadata": {},
   "outputs": [],
   "source": [
    "# Now we register the function that will be called each time the sensor\n",
    "# receives an image. In this example we are saving the image to disk\n",
    "# converting the pixels to gray-scale.\n",
    "cc = carla.ColorConverter.LogarithmicDepth\n",
    "camera.listen(lambda image: image.save_to_disk('_out/%06d.png' % image.frame, cc))"
   ]
  },
  {
   "cell_type": "code",
   "execution_count": 19,
   "id": "bddae5aa",
   "metadata": {},
   "outputs": [
    {
     "data": {
      "text/plain": [
       "True"
      ]
     },
     "execution_count": 19,
     "metadata": {},
     "output_type": "execute_result"
    }
   ],
   "source": [
    "camera.destroy()"
   ]
  },
  {
   "cell_type": "code",
   "execution_count": 20,
   "id": "30078210",
   "metadata": {},
   "outputs": [
    {
     "data": {
      "text/plain": [
       "True"
      ]
     },
     "execution_count": 20,
     "metadata": {},
     "output_type": "execute_result"
    }
   ],
   "source": [
    "vehicle.destroy()"
   ]
  },
  {
   "cell_type": "markdown",
   "id": "3b6b1bca",
   "metadata": {},
   "source": [
    "# Playground"
   ]
  },
  {
   "cell_type": "code",
   "execution_count": 4,
   "id": "8cdf56f5",
   "metadata": {},
   "outputs": [],
   "source": [
    "# Spawn 50 vehicles randomly distributed throughout the map \n",
    "# for each spawn point, we choose a random vehicle from the blueprint library\n",
    "for i in range(0,50):\n",
    "    world.try_spawn_actor(random.choice(vehicle_blueprints), random.choice(spawn_points))"
   ]
  },
  {
   "cell_type": "code",
   "execution_count": 5,
   "id": "fad59360",
   "metadata": {},
   "outputs": [],
   "source": [
    "for vehicle in world.get_actors().filter('*vehicle*'):\n",
    "    vehicle.set_autopilot(True)"
   ]
  },
  {
   "cell_type": "code",
   "execution_count": 6,
   "id": "6318e231",
   "metadata": {},
   "outputs": [],
   "source": [
    "ego_bp = world.get_blueprint_library().find('vehicle.seat.leon')\n",
    "\n",
    "ego_bp.set_attribute('role_name', 'hero')\n",
    "\n",
    "ego_vehicle = world.spawn_actor(ego_bp, random.choice(spawn_points))"
   ]
  },
  {
   "cell_type": "code",
   "execution_count": null,
   "id": "2d213fcb",
   "metadata": {},
   "outputs": [],
   "source": [
    "# Создание сенсора \"камера\"\n",
    "camera_init_trans = carla.Transform(carla.Location(z=1.5))\n",
    "camera_bp = world.get_blueprint_library().find('sensor.camera.rgb')\n",
    "camera = world.spawn_actor(camera_bp, camera_init_trans, attach_to=ego_vehicle)"
   ]
  },
  {
   "cell_type": "code",
   "execution_count": 8,
   "id": "b8a5530e",
   "metadata": {},
   "outputs": [],
   "source": [
    "import cv2\n",
    "import numpy as np\n",
    "\n",
    "def show_image(image):\n",
    "    # Преобразуем CARLA image в массив numpy\n",
    "    array = np.frombuffer(image.raw_data, dtype=np.uint8)\n",
    "    array = array.reshape((image.height, image.width, 4))  # BGRA формат\n",
    "\n",
    "    # Избавляемся от альфа-канала (если не нужен)\n",
    "    frame = array[:, :, :3]\n",
    "\n",
    "    # Преобразуем BGRA -> RGB, если нужно (OpenCV по умолчанию в BGR)\n",
    "    frame = cv2.cvtColor(frame, cv2.COLOR_BGR2RGB)\n",
    "\n",
    "    # Показываем изображение\n",
    "    cv2.imshow(\"CARLA Camera\", frame)\n",
    "    \n",
    "    # Обновляем окно; 1 мс ожидания клавиши (нужно для обработки GUI)\n",
    "    if cv2.waitKey(1) == 27:  # Нажми Esc чтобы выйти\n",
    "        image.stop()\n"
   ]
  },
  {
   "cell_type": "code",
   "execution_count": 9,
   "id": "bb2df4ca",
   "metadata": {},
   "outputs": [],
   "source": [
    "# Пример подключения:\n",
    "camera.listen(show_image)"
   ]
  },
  {
   "cell_type": "code",
   "execution_count": null,
   "id": "6c0694cf",
   "metadata": {},
   "outputs": [],
   "source": [
    "# Управление: газ, поворот, тормоз\n",
    "control = carla.VehicleControl()"
   ]
  },
  {
   "cell_type": "code",
   "execution_count": 45,
   "id": "91ec8cc6",
   "metadata": {},
   "outputs": [],
   "source": [
    "control.steer = +0.00     # Поворот от -1.0 до 1.0\n",
    "ego_vehicle.apply_control(control)"
   ]
  },
  {
   "cell_type": "code",
   "execution_count": 46,
   "id": "90ab9fed",
   "metadata": {},
   "outputs": [],
   "source": [
    "control.throttle = 0.5  # Газ от 0.0 до 1.0\n",
    "control.brake = 0.0\n",
    "ego_vehicle.apply_control(control)"
   ]
  },
  {
   "cell_type": "code",
   "execution_count": 47,
   "id": "c6bcc9f1",
   "metadata": {},
   "outputs": [],
   "source": [
    "# Остановим\n",
    "control.throttle = 0.0\n",
    "control.brake = 1.0\n",
    "ego_vehicle.apply_control(control)"
   ]
  },
  {
   "cell_type": "code",
   "execution_count": null,
   "id": "65a67460",
   "metadata": {},
   "outputs": [],
   "source": []
  },
  {
   "cell_type": "code",
   "execution_count": null,
   "id": "fd08ac37",
   "metadata": {},
   "outputs": [],
   "source": []
  }
 ],
 "metadata": {
  "kernelspec": {
   "display_name": "venv",
   "language": "python",
   "name": "python3"
  },
  "language_info": {
   "codemirror_mode": {
    "name": "ipython",
    "version": 3
   },
   "file_extension": ".py",
   "mimetype": "text/x-python",
   "name": "python",
   "nbconvert_exporter": "python",
   "pygments_lexer": "ipython3",
   "version": "3.7.9"
  }
 },
 "nbformat": 4,
 "nbformat_minor": 5
}
