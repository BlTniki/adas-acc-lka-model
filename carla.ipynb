{
 "cells": [
  {
   "cell_type": "code",
   "execution_count": 1,
   "id": "54e18119",
   "metadata": {},
   "outputs": [],
   "source": [
    "import carla\n",
    "import random"
   ]
  },
  {
   "cell_type": "code",
   "execution_count": 2,
   "id": "13edb07e",
   "metadata": {},
   "outputs": [],
   "source": [
    "# Connect to the client and retrieve the world object\n",
    "client = carla.Client('localhost', 2000)\n",
    "world = client.get_world()"
   ]
  },
  {
   "cell_type": "code",
   "execution_count": 3,
   "id": "df703e76",
   "metadata": {},
   "outputs": [
    {
     "data": {
      "text/plain": [
       "<carla.libcarla.World at 0x1d4b296dea0>"
      ]
     },
     "execution_count": 3,
     "metadata": {},
     "output_type": "execute_result"
    }
   ],
   "source": [
    "client.load_world('Town03')"
   ]
  },
  {
   "cell_type": "code",
   "execution_count": 4,
   "id": "9871b17b",
   "metadata": {},
   "outputs": [],
   "source": [
    "# Get the blueprint library and filter for the vehicle blueprints\n",
    "vehicle_blueprints = world.get_blueprint_library().filter('*vehicle*')\n",
    "# Get the map's spawn points\n",
    "spawn_points = world.get_map().get_spawn_points()"
   ]
  },
  {
   "cell_type": "code",
   "execution_count": 5,
   "id": "8cdf56f5",
   "metadata": {},
   "outputs": [],
   "source": [
    "# Spawn 50 vehicles randomly distributed throughout the map \n",
    "# for each spawn point, we choose a random vehicle from the blueprint library\n",
    "for i in range(0,50):\n",
    "    world.try_spawn_actor(random.choice(vehicle_blueprints), random.choice(spawn_points))"
   ]
  },
  {
   "cell_type": "code",
   "execution_count": 6,
   "id": "fad59360",
   "metadata": {},
   "outputs": [],
   "source": [
    "for vehicle in world.get_actors().filter('*vehicle*'):\n",
    "    vehicle.set_autopilot(True)"
   ]
  },
  {
   "cell_type": "code",
   "execution_count": 7,
   "id": "6318e231",
   "metadata": {},
   "outputs": [],
   "source": [
    "ego_bp = world.get_blueprint_library().find('vehicle.seat.leon')\n",
    "\n",
    "ego_bp.set_attribute('role_name', 'hero')\n",
    "\n",
    "ego_vehicle = world.spawn_actor(ego_bp, random.choice(spawn_points))"
   ]
  },
  {
   "cell_type": "code",
   "execution_count": 8,
   "id": "2d213fcb",
   "metadata": {},
   "outputs": [],
   "source": [
    "# Create a transform to place the camera on top of the vehicle\n",
    "camera_init_trans = carla.Transform(carla.Location(z=1.5))\n",
    "\n",
    "# We create the camera through a blueprint that defines its properties\n",
    "camera_bp = world.get_blueprint_library().find('sensor.camera.rgb')\n",
    "\n",
    "# We spawn the camera and attach it to our ego vehicle\n",
    "camera = world.spawn_actor(camera_bp, camera_init_trans, attach_to=ego_vehicle)"
   ]
  },
  {
   "cell_type": "code",
   "execution_count": 9,
   "id": "b8a5530e",
   "metadata": {},
   "outputs": [],
   "source": [
    "import cv2\n",
    "import numpy as np\n",
    "\n",
    "def show_image(image):\n",
    "    # Преобразуем CARLA image в массив numpy\n",
    "    array = np.frombuffer(image.raw_data, dtype=np.uint8)\n",
    "    array = array.reshape((image.height, image.width, 4))  # BGRA формат\n",
    "\n",
    "    # Избавляемся от альфа-канала (если не нужен)\n",
    "    frame = array[:, :, :3]\n",
    "\n",
    "    # Преобразуем BGRA -> RGB, если нужно (OpenCV по умолчанию в BGR)\n",
    "    frame = cv2.cvtColor(frame, cv2.COLOR_BGR2RGB)\n",
    "\n",
    "    # Показываем изображение\n",
    "    cv2.imshow(\"CARLA Camera\", frame)\n",
    "    \n",
    "    # Обновляем окно; 1 мс ожидания клавиши (нужно для обработки GUI)\n",
    "    if cv2.waitKey(1) == 27:  # Нажми Esc чтобы выйти\n",
    "        image.stop()\n"
   ]
  },
  {
   "cell_type": "code",
   "execution_count": 48,
   "id": "bb2df4ca",
   "metadata": {},
   "outputs": [
    {
     "ename": "",
     "evalue": "",
     "output_type": "error",
     "traceback": [
      "\u001b[1;31mThe Kernel crashed while executing code in the current cell or a previous cell. \n",
      "\u001b[1;31mPlease review the code in the cell(s) to identify a possible cause of the failure. \n",
      "\u001b[1;31mClick <a href='https://aka.ms/vscodeJupyterKernelCrash'>here</a> for more info. \n",
      "\u001b[1;31mView Jupyter <a href='command:jupyter.viewOutput'>log</a> for further details."
     ]
    }
   ],
   "source": [
    "# Пример подключения:\n",
    "camera.listen(show_image)"
   ]
  },
  {
   "cell_type": "code",
   "execution_count": null,
   "id": "6c0694cf",
   "metadata": {},
   "outputs": [],
   "source": [
    "# Управление: газ, поворот, тормоз\n",
    "control = carla.VehicleControl()"
   ]
  },
  {
   "cell_type": "code",
   "execution_count": 45,
   "id": "91ec8cc6",
   "metadata": {},
   "outputs": [],
   "source": [
    "control.steer = +0.00     # Поворот от -1.0 до 1.0\n",
    "ego_vehicle.apply_control(control)"
   ]
  },
  {
   "cell_type": "code",
   "execution_count": 46,
   "id": "90ab9fed",
   "metadata": {},
   "outputs": [],
   "source": [
    "control.throttle = 0.5  # Газ от 0.0 до 1.0\n",
    "control.brake = 0.0\n",
    "ego_vehicle.apply_control(control)"
   ]
  },
  {
   "cell_type": "code",
   "execution_count": 47,
   "id": "c6bcc9f1",
   "metadata": {},
   "outputs": [],
   "source": [
    "# Остановим\n",
    "control.throttle = 0.0\n",
    "control.brake = 1.0\n",
    "ego_vehicle.apply_control(control)"
   ]
  },
  {
   "cell_type": "code",
   "execution_count": null,
   "id": "65a67460",
   "metadata": {},
   "outputs": [],
   "source": []
  },
  {
   "cell_type": "code",
   "execution_count": null,
   "id": "fd08ac37",
   "metadata": {},
   "outputs": [],
   "source": []
  }
 ],
 "metadata": {
  "kernelspec": {
   "display_name": "venv",
   "language": "python",
   "name": "python3"
  },
  "language_info": {
   "codemirror_mode": {
    "name": "ipython",
    "version": 3
   },
   "file_extension": ".py",
   "mimetype": "text/x-python",
   "name": "python",
   "nbconvert_exporter": "python",
   "pygments_lexer": "ipython3",
   "version": "3.7.9"
  }
 },
 "nbformat": 4,
 "nbformat_minor": 5
}
